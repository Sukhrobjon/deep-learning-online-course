{
 "cells": [
  {
   "cell_type": "markdown",
   "metadata": {},
   "source": [
    "# Part 1 - Artificial Neural Networks!(ANN)\n",
    "---\n",
    "\n",
    "- In this part you will learn:\n",
    "\n",
    "    1. The Intuition of ANNs\n",
    "\n",
    "    - How to build an ANN\n",
    "\n",
    "    - How to predict the outcome of a single observation (Homework Challenge)\n",
    "\n",
    "    - How to evaluate the performance of an ANN with k-Fold Cross Validation\n",
    "\n",
    "    - How to tackle overfitting with Dropout\n",
    "\n",
    "    - How to do some Parameter Tuning on your ANN to improve its performance\n",
    "\n"
   ]
  },
  {
   "cell_type": "markdown",
   "metadata": {},
   "source": []
  }
 ],
 "metadata": {
  "kernelspec": {
   "display_name": "Python 3",
   "language": "python",
   "name": "python3"
  },
  "language_info": {
   "codemirror_mode": {
    "name": "ipython",
    "version": 3
   },
   "file_extension": ".py",
   "mimetype": "text/x-python",
   "name": "python",
   "nbconvert_exporter": "python",
   "pygments_lexer": "ipython3",
   "version": "3.7.1"
  }
 },
 "nbformat": 4,
 "nbformat_minor": 2
}
